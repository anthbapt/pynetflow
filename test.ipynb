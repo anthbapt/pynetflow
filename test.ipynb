{
 "cells": [
  {
   "cell_type": "code",
   "execution_count": 1,
   "id": "69db9bdf-7c63-4227-9e43-546278bdba29",
   "metadata": {},
   "outputs": [],
   "source": [
    "from ricci_flow import drop_weights, Forman_ricci, Signal_entropy, dist_mat\n",
    "from ricci_flow import RicciFlow_normalised, Total_ricci_curvature\n",
    "from ricci_curvature import forman_degree, forman_hyperedge\n",
    "from ricci_vis import visualize_order, visualize_all\n",
    "import networkx as nx\n",
    "import pandas as pd\n",
    "import numpy as np\n",
    "import xgi"
   ]
  },
  {
   "cell_type": "markdown",
   "id": "7c9a1a6a-badf-4164-b432-6d3acdb33bf6",
   "metadata": {},
   "source": [
    "# Test code ricci-flow"
   ]
  },
  {
   "cell_type": "code",
   "execution_count": 2,
   "id": "00497907-6dfa-452c-8b4f-7f2a76148d8d",
   "metadata": {},
   "outputs": [],
   "source": [
    "adj = pd.read_csv('data/toy_network.csv', index_col=0)\n",
    "adj.columns = list(adj.index)\n",
    "G = nx.from_pandas_adjacency(adj)\n",
    "drop_weights(G)\n",
    "vec = pd.read_csv('data/toy_data.csv', index_col=0)\n",
    "eta = 0.5\n",
    "n_iter = 20\n",
    "ve = np.array(vec['V5'])\n",
    "vecf = np.array(vec['V7'])"
   ]
  },
  {
   "cell_type": "code",
   "execution_count": 3,
   "id": "3a8ee9bc-5862-4a1a-923b-ee2315dd6d02",
   "metadata": {},
   "outputs": [
    {
     "name": "stdout",
     "output_type": "stream",
     "text": [
      "-0.17392857864357159\n",
      "0,"
     ]
    },
    {
     "name": "stderr",
     "output_type": "stream",
     "text": [
      "/Users/anthonybaptista/Desktop/Anthony_toy_data/package/ricci_flow.py:143: RuntimeWarning: divide by zero encountered in reciprocal\n",
      "  dist = np.reciprocal(dist)*Adj\n"
     ]
    },
    {
     "name": "stdout",
     "output_type": "stream",
     "text": [
      "-0.1986811922368642\n",
      "1,-0.22463740801604795\n",
      "2,-0.25297655588373236\n",
      "3,-0.27527891916353764\n",
      "4,-0.2908556159011416\n",
      "5,-0.301808870808214\n",
      "6,-0.31023239925779744\n",
      "7,-0.317140690903885\n",
      "8,-0.3229674286689676\n",
      "9,-0.32795797164173734\n",
      "10,-0.33228324904177037\n",
      "11,-0.33607099971323073\n",
      "12,-0.3394192180142155\n",
      "13,-0.342404389297431\n",
      "14,-0.3450870861842902\n",
      "15,-0.3475158704765894\n",
      "16,-0.3497300673076392\n",
      "17,-0.35176178387438706\n",
      "18,-0.35363741353294564\n",
      "19,-0.35537877999502976\n"
     ]
    }
   ],
   "source": [
    "output = RicciFlow_normalised(G, ve, vecf, Niter = n_iter, eta = eta)"
   ]
  },
  {
   "cell_type": "code",
   "execution_count": 4,
   "id": "718a568b-5912-4e76-9a16-c75dd4423853",
   "metadata": {},
   "outputs": [
    {
     "name": "stdout",
     "output_type": "stream",
     "text": [
      "0.8563126593477571\n",
      "0.8561025073430429\n",
      "0.8047070067307767\n",
      "0.8984662828452084\n",
      "0.8068846039485144\n",
      "0.9240782203433502\n",
      "0.9760601879146359\n",
      "0.8085962356204496\n",
      "0.9199166587449003\n",
      "0.9335563663528579\n"
     ]
    }
   ],
   "source": [
    "for k in range(10):\n",
    "    ve = np.array(vec['V'+str(k+1)])\n",
    "    D = np.outer(ve, ve)\n",
    "    D = 1/D\n",
    "    SR = Signal_entropy(G, D)\n",
    "    print(SR)"
   ]
  },
  {
   "cell_type": "code",
   "execution_count": 5,
   "id": "1547168c-5f9f-4138-b173-9af503674520",
   "metadata": {},
   "outputs": [
    {
     "name": "stdout",
     "output_type": "stream",
     "text": [
      "-0.31973763959854434\n",
      "-0.3100076692641227\n",
      "-0.268360171857661\n",
      "-0.35220423802467243\n",
      "-0.17392857864357159\n",
      "-0.38015564446868566\n",
      "-0.430626409565498\n",
      "-0.22921115486993682\n",
      "-0.3358611479954948\n",
      "-0.32467015498829677\n"
     ]
    }
   ],
   "source": [
    "for k in range(10):\n",
    "    ve = np.array(vec['V'+str(k+1)])\n",
    "    D = np.outer(ve, ve)\n",
    "    dist = 1/D\n",
    "    tot = Total_ricci_curvature(G, dist)\n",
    "    print(tot)"
   ]
  },
  {
   "cell_type": "markdown",
   "id": "50f43041-f641-4405-a4ee-a03fbba90ac8",
   "metadata": {},
   "source": [
    "# Test code ricci-curvature and ricci-vis"
   ]
  },
  {
   "cell_type": "code",
   "execution_count": 13,
   "id": "9594e29b-1d91-4cf7-bc1f-fdf3041f507d",
   "metadata": {},
   "outputs": [],
   "source": [
    "SC = xgi.SimplicialComplex()\n",
    "SC.add_simplices_from([[3, 4, 5], [3, 5, 6], [6, 7, 8, 9], [1, 4, 10, 11, 2], [1, 3, 10, 11, 2], [1, 0]])\n",
    "pos = xgi.barycenter_spring_layout(SC)"
   ]
  },
  {
   "cell_type": "code",
   "execution_count": 7,
   "id": "a9cfefbb-90cd-492d-bd29-3a2f347b10f7",
   "metadata": {},
   "outputs": [],
   "source": [
    "visualize_order(SC, 0)\n",
    "visualize_order(SC, 1)\n",
    "visualize_order(SC, 2)\n",
    "visualize_order(SC, 3)\n",
    "visualize_order(SC, 4)  "
   ]
  },
  {
   "cell_type": "code",
   "execution_count": 14,
   "id": "e4889a96-b4dc-46d5-9e8c-5830b7cc4b58",
   "metadata": {},
   "outputs": [],
   "source": [
    "visualize_all(SC)"
   ]
  },
  {
   "cell_type": "markdown",
   "id": "6917034d-65a9-4f3c-8597-b09577588369",
   "metadata": {},
   "source": [
    "# Test of the consistency between ricci curvature from ricci-flow code and ricci-curvature"
   ]
  },
  {
   "cell_type": "code",
   "execution_count": 8,
   "id": "45f6a277-1174-4cfc-a560-2330d0080ba9",
   "metadata": {},
   "outputs": [],
   "source": [
    "G = nx.karate_club_graph()\n",
    "drop_weights(G)\n",
    "adj = nx.adjacency_matrix(G).todense()\n",
    "frc = Forman_ricci(G, adj)\n",
    "weights = np.array([1 for i in range(len(G.nodes()))])\n",
    "frc2 = Forman_ricci(G, adj, node_weight = weights)\n",
    "\n",
    "\n",
    "\n",
    "SC = xgi.SimplicialComplex()\n",
    "for k in G.edges():\n",
    "    SC.add_simplex(k)\n",
    "Fdegree = forman_degree(SC, SC.nodes).values()\n",
    "Fhyperdegree = forman_hyperedge(SC, SC.nodes, 1).values()"
   ]
  },
  {
   "cell_type": "code",
   "execution_count": 9,
   "id": "fafc2f90-e4a2-4656-aae6-25766642a98c",
   "metadata": {},
   "outputs": [
    {
     "name": "stdout",
     "output_type": "stream",
     "text": [
      "{'ricci': array([[ 0.        , -1.65277778, -1.675     , ..., -1.54166667,\n",
      "         0.        ,  0.        ],\n",
      "       [-1.65277778,  0.        , -1.57777778, ...,  0.        ,\n",
      "         0.        ,  0.        ],\n",
      "       [-1.675     , -1.57777778,  0.        , ...,  0.        ,\n",
      "        -1.63333333,  0.        ],\n",
      "       ...,\n",
      "       [-1.54166667,  0.        ,  0.        , ...,  0.        ,\n",
      "        -1.5       , -1.54901961],\n",
      "       [ 0.        ,  0.        , -1.63333333, ..., -1.5       ,\n",
      "         0.        , -1.71568627],\n",
      "       [ 0.        ,  0.        ,  0.        , ..., -1.54901961,\n",
      "        -1.71568627,  0.        ]]), 'scalar': [-1.2256944444444444, -1.2527777777777775, -1.368611111111111, -1.2587962962962962, -0.9027777777777777, -0.9270833333333333, -0.9270833333333333, -1.2798611111111111, -1.3781372549019608, -0.8411764705882353, -0.9027777777777777, 0.125, -0.7708333333333333, -1.4003594771241832, -0.8578431372549019, -0.8578431372549019, -0.5, -0.8263888888888888, -0.8578431372549019, -1.1783769063180827, -0.8578431372549019, -0.8263888888888888, -0.8578431372549019, -1.2098039215686274, -0.8333333333333334, -0.8666666666666667, -0.6911764705882353, -1.1539215686274509, -1.1163398692810456, -1.0789215686274511, -1.2733660130718953, -1.2651143790849673, -1.2124183006535947, -1.203921568627451]}\n",
      "{'ricci': array([[  0., -21., -22., ..., -18.,   0.,   0.],\n",
      "       [-21.,   0., -15., ...,   0.,   0.,   0.],\n",
      "       [-22., -15.,   0., ...,   0., -18.,   0.],\n",
      "       ...,\n",
      "       [-18.,   0.,   0., ...,   0., -14., -19.],\n",
      "       [  0.,   0., -18., ..., -14.,   0., -25.],\n",
      "       [  0.,   0.,   0., ..., -19., -25.,   0.]]), 'scalar': [-16.3125, -10.777777777777779, -12.6, -9.666666666666666, -6.666666666666667, -6.25, -6.25, -10.25, -12.8, -11.5, -6.666666666666667, -13.0, -9.0, -12.6, -12.5, -12.5, -2.0, -10.5, -12.5, -13.0, -12.5, -10.5, -12.5, -9.0, -3.3333333333333335, -3.6666666666666665, -8.5, -8.75, -10.0, -9.0, -10.75, -11.0, -13.083333333333334, -16.823529411764707]}\n"
     ]
    }
   ],
   "source": [
    "print(frc)\n",
    "print(frc2)"
   ]
  },
  {
   "cell_type": "code",
   "execution_count": 10,
   "id": "f09078e8-413e-485a-a05c-0904ff8ac793",
   "metadata": {},
   "outputs": [
    {
     "name": "stdout",
     "output_type": "stream",
     "text": [
      "dict_values([-16.3125, -10.777777777777779, -12.6, -9.666666666666666, -6.666666666666667, -6.25, -6.25, -10.25, -12.8, -11.5, -6.666666666666667, -13.0, -9.0, -12.6, -12.5, -12.5, -2.0, -10.5, -12.5, -13.0, -12.5, -10.5, -12.5, -9.0, -3.3333333333333335, -3.6666666666666665, -8.5, -8.75, -10.0, -9.0, -10.75, -11.0, -13.083333333333334, -16.823529411764707])\n"
     ]
    }
   ],
   "source": [
    "print(Fdegree)"
   ]
  },
  {
   "cell_type": "code",
   "execution_count": 11,
   "id": "cf90f5c6-a528-4d08-b4eb-2594fbbc829b",
   "metadata": {},
   "outputs": [
    {
     "name": "stdout",
     "output_type": "stream",
     "text": [
      "dict_values([-21.0, -22.0, -18.0, -15.0, -16.0, -16.0, -16.0, -17.0, -15.0, -13.0, -14.0, -17.0, -14.0, -15.0, -14.0, -18.0, -15.0, -11.0, -9.0, -10.0, -7.0, -8.0, -7.0, -9.0, -12.0, -10.0, -11.0, -8.0, -11.0, -10.0, -9.0, -18.0, -6.0, -4.0, -7.0, -3.0, -2.0, -4.0, -3.0, -2.0, -2.0, -5.0, -13.0, -18.0, -15.0, -18.0, -10.0, -15.0, -10.0, -15.0, -10.0, -15.0, -16.0, -10.0, -15.0, -10.0, -15.0, -4.0, -5.0, -5.0, -13.0, -18.0, -2.0, -3.0, -5.0, -5.0, -2.0, -15.0, -17.0, -5.0, -16.0, -12.0, -17.0, -12.0, -17.0, -14.0, -19.0, -25.0])\n"
     ]
    }
   ],
   "source": [
    "print(Fhyperdegree)"
   ]
  }
 ],
 "metadata": {
  "kernelspec": {
   "display_name": "Python 3 (ipykernel)",
   "language": "python",
   "name": "python3"
  },
  "language_info": {
   "codemirror_mode": {
    "name": "ipython",
    "version": 3
   },
   "file_extension": ".py",
   "mimetype": "text/x-python",
   "name": "python",
   "nbconvert_exporter": "python",
   "pygments_lexer": "ipython3",
   "version": "3.9.16"
  }
 },
 "nbformat": 4,
 "nbformat_minor": 5
}
